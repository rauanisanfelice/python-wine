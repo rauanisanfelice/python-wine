{
 "cells": [
  {
   "cell_type": "code",
   "execution_count": 23,
   "metadata": {},
   "outputs": [],
   "source": [
    "# MANIPULAÇÃO DOS DADOS\n",
    "import pandas as pd\n",
    "\n",
    "# MANIPULAÇÃO DE ARRAY\n",
    "import numpy as np\n",
    "\n",
    "# BIBLIOTECA DE GRÁFICOS\n",
    "import matplotlib.pyplot as plt\n",
    "\n",
    "# BIBLIOTECAS DE MACHINE LEARNING\n",
    "from sklearn.cluster import KMeans\n",
    "from sklearn.cluster import AffinityPropagation\n",
    "from sklearn.metrics import accuracy_score, confusion_matrix, classification_report\n",
    "from sklearn.model_selection import train_test_split"
   ]
  },
  {
   "cell_type": "code",
   "execution_count": 167,
   "metadata": {},
   "outputs": [],
   "source": [
    "names= ['Classificacao','Alcool','AcidoMalico','Cinza','AlcalinidadeCinzas','Magnesio','FenoisTotais','Flavonoides','FenoisNaoFlavonoides','Proantocianinas','IntensidadeCor','Matiz','VinhosDiluidos','Prolina']\n",
    "dfWines = pd.read_csv(\"wine.data\", names=names)\n",
    "\n",
    "# DIMINIU A CLASSIFICAÇÃO PARA FICAR IGUAL O NUMERO DE CLUSTERS\n",
    "dfWines['Classificacao']  = dfWines['Classificacao'] - 1\n",
    "\n",
    "# SHUFFLE NO DF\n",
    "dfWinesShuffle = dfWines.sample(frac=1, random_state=1).reset_index(drop=True)"
   ]
  },
  {
   "cell_type": "code",
   "execution_count": 168,
   "metadata": {},
   "outputs": [
    {
     "data": {
      "text/html": [
       "<div>\n",
       "<style scoped>\n",
       "    .dataframe tbody tr th:only-of-type {\n",
       "        vertical-align: middle;\n",
       "    }\n",
       "\n",
       "    .dataframe tbody tr th {\n",
       "        vertical-align: top;\n",
       "    }\n",
       "\n",
       "    .dataframe thead th {\n",
       "        text-align: right;\n",
       "    }\n",
       "</style>\n",
       "<table border=\"1\" class=\"dataframe\">\n",
       "  <thead>\n",
       "    <tr style=\"text-align: right;\">\n",
       "      <th></th>\n",
       "      <th>Classificacao</th>\n",
       "      <th>Alcool</th>\n",
       "      <th>AcidoMalico</th>\n",
       "      <th>Cinza</th>\n",
       "      <th>AlcalinidadeCinzas</th>\n",
       "      <th>Magnesio</th>\n",
       "      <th>FenoisTotais</th>\n",
       "      <th>Flavonoides</th>\n",
       "      <th>FenoisNaoFlavonoides</th>\n",
       "      <th>Proantocianinas</th>\n",
       "      <th>IntensidadeCor</th>\n",
       "      <th>Matiz</th>\n",
       "      <th>VinhosDiluidos</th>\n",
       "      <th>Prolina</th>\n",
       "    </tr>\n",
       "  </thead>\n",
       "  <tbody>\n",
       "    <tr>\n",
       "      <td>0</td>\n",
       "      <td>2</td>\n",
       "      <td>13.69</td>\n",
       "      <td>3.26</td>\n",
       "      <td>2.54</td>\n",
       "      <td>20.0</td>\n",
       "      <td>107</td>\n",
       "      <td>1.83</td>\n",
       "      <td>0.56</td>\n",
       "      <td>0.50</td>\n",
       "      <td>0.80</td>\n",
       "      <td>5.88</td>\n",
       "      <td>0.96</td>\n",
       "      <td>1.82</td>\n",
       "      <td>680</td>\n",
       "    </tr>\n",
       "    <tr>\n",
       "      <td>1</td>\n",
       "      <td>1</td>\n",
       "      <td>12.42</td>\n",
       "      <td>1.61</td>\n",
       "      <td>2.19</td>\n",
       "      <td>22.5</td>\n",
       "      <td>108</td>\n",
       "      <td>2.00</td>\n",
       "      <td>2.09</td>\n",
       "      <td>0.34</td>\n",
       "      <td>1.61</td>\n",
       "      <td>2.06</td>\n",
       "      <td>1.06</td>\n",
       "      <td>2.96</td>\n",
       "      <td>345</td>\n",
       "    </tr>\n",
       "    <tr>\n",
       "      <td>2</td>\n",
       "      <td>0</td>\n",
       "      <td>13.64</td>\n",
       "      <td>3.10</td>\n",
       "      <td>2.56</td>\n",
       "      <td>15.2</td>\n",
       "      <td>116</td>\n",
       "      <td>2.70</td>\n",
       "      <td>3.03</td>\n",
       "      <td>0.17</td>\n",
       "      <td>1.66</td>\n",
       "      <td>5.10</td>\n",
       "      <td>0.96</td>\n",
       "      <td>3.36</td>\n",
       "      <td>845</td>\n",
       "    </tr>\n",
       "    <tr>\n",
       "      <td>3</td>\n",
       "      <td>1</td>\n",
       "      <td>12.21</td>\n",
       "      <td>1.19</td>\n",
       "      <td>1.75</td>\n",
       "      <td>16.8</td>\n",
       "      <td>151</td>\n",
       "      <td>1.85</td>\n",
       "      <td>1.28</td>\n",
       "      <td>0.14</td>\n",
       "      <td>2.50</td>\n",
       "      <td>2.85</td>\n",
       "      <td>1.28</td>\n",
       "      <td>3.07</td>\n",
       "      <td>718</td>\n",
       "    </tr>\n",
       "    <tr>\n",
       "      <td>4</td>\n",
       "      <td>0</td>\n",
       "      <td>13.77</td>\n",
       "      <td>1.90</td>\n",
       "      <td>2.68</td>\n",
       "      <td>17.1</td>\n",
       "      <td>115</td>\n",
       "      <td>3.00</td>\n",
       "      <td>2.79</td>\n",
       "      <td>0.39</td>\n",
       "      <td>1.68</td>\n",
       "      <td>6.30</td>\n",
       "      <td>1.13</td>\n",
       "      <td>2.93</td>\n",
       "      <td>1375</td>\n",
       "    </tr>\n",
       "  </tbody>\n",
       "</table>\n",
       "</div>"
      ],
      "text/plain": [
       "   Classificacao  Alcool  AcidoMalico  Cinza  AlcalinidadeCinzas  Magnesio  \\\n",
       "0              2   13.69         3.26   2.54                20.0       107   \n",
       "1              1   12.42         1.61   2.19                22.5       108   \n",
       "2              0   13.64         3.10   2.56                15.2       116   \n",
       "3              1   12.21         1.19   1.75                16.8       151   \n",
       "4              0   13.77         1.90   2.68                17.1       115   \n",
       "\n",
       "   FenoisTotais  Flavonoides  FenoisNaoFlavonoides  Proantocianinas  \\\n",
       "0          1.83         0.56                  0.50             0.80   \n",
       "1          2.00         2.09                  0.34             1.61   \n",
       "2          2.70         3.03                  0.17             1.66   \n",
       "3          1.85         1.28                  0.14             2.50   \n",
       "4          3.00         2.79                  0.39             1.68   \n",
       "\n",
       "   IntensidadeCor  Matiz  VinhosDiluidos  Prolina  \n",
       "0            5.88   0.96            1.82      680  \n",
       "1            2.06   1.06            2.96      345  \n",
       "2            5.10   0.96            3.36      845  \n",
       "3            2.85   1.28            3.07      718  \n",
       "4            6.30   1.13            2.93     1375  "
      ]
     },
     "execution_count": 168,
     "metadata": {},
     "output_type": "execute_result"
    }
   ],
   "source": [
    "dfWinesShuffle.head()"
   ]
  },
  {
   "cell_type": "code",
   "execution_count": 169,
   "metadata": {},
   "outputs": [
    {
     "data": {
      "text/html": [
       "<div>\n",
       "<style scoped>\n",
       "    .dataframe tbody tr th:only-of-type {\n",
       "        vertical-align: middle;\n",
       "    }\n",
       "\n",
       "    .dataframe tbody tr th {\n",
       "        vertical-align: top;\n",
       "    }\n",
       "\n",
       "    .dataframe thead th {\n",
       "        text-align: right;\n",
       "    }\n",
       "</style>\n",
       "<table border=\"1\" class=\"dataframe\">\n",
       "  <thead>\n",
       "    <tr style=\"text-align: right;\">\n",
       "      <th></th>\n",
       "      <th>Classificacao</th>\n",
       "      <th>Alcool</th>\n",
       "      <th>AcidoMalico</th>\n",
       "      <th>Cinza</th>\n",
       "      <th>AlcalinidadeCinzas</th>\n",
       "      <th>Magnesio</th>\n",
       "      <th>FenoisTotais</th>\n",
       "      <th>Flavonoides</th>\n",
       "      <th>FenoisNaoFlavonoides</th>\n",
       "      <th>Proantocianinas</th>\n",
       "      <th>IntensidadeCor</th>\n",
       "      <th>Matiz</th>\n",
       "      <th>VinhosDiluidos</th>\n",
       "      <th>Prolina</th>\n",
       "    </tr>\n",
       "  </thead>\n",
       "  <tbody>\n",
       "    <tr>\n",
       "      <td>0</td>\n",
       "      <td>2</td>\n",
       "      <td>13.69</td>\n",
       "      <td>3.26</td>\n",
       "      <td>2.54</td>\n",
       "      <td>20.0</td>\n",
       "      <td>107</td>\n",
       "      <td>1.83</td>\n",
       "      <td>0.56</td>\n",
       "      <td>0.50</td>\n",
       "      <td>0.80</td>\n",
       "      <td>5.88</td>\n",
       "      <td>0.96</td>\n",
       "      <td>1.82</td>\n",
       "      <td>680</td>\n",
       "    </tr>\n",
       "    <tr>\n",
       "      <td>1</td>\n",
       "      <td>1</td>\n",
       "      <td>12.42</td>\n",
       "      <td>1.61</td>\n",
       "      <td>2.19</td>\n",
       "      <td>22.5</td>\n",
       "      <td>108</td>\n",
       "      <td>2.00</td>\n",
       "      <td>2.09</td>\n",
       "      <td>0.34</td>\n",
       "      <td>1.61</td>\n",
       "      <td>2.06</td>\n",
       "      <td>1.06</td>\n",
       "      <td>2.96</td>\n",
       "      <td>345</td>\n",
       "    </tr>\n",
       "    <tr>\n",
       "      <td>2</td>\n",
       "      <td>0</td>\n",
       "      <td>13.64</td>\n",
       "      <td>3.10</td>\n",
       "      <td>2.56</td>\n",
       "      <td>15.2</td>\n",
       "      <td>116</td>\n",
       "      <td>2.70</td>\n",
       "      <td>3.03</td>\n",
       "      <td>0.17</td>\n",
       "      <td>1.66</td>\n",
       "      <td>5.10</td>\n",
       "      <td>0.96</td>\n",
       "      <td>3.36</td>\n",
       "      <td>845</td>\n",
       "    </tr>\n",
       "    <tr>\n",
       "      <td>3</td>\n",
       "      <td>1</td>\n",
       "      <td>12.21</td>\n",
       "      <td>1.19</td>\n",
       "      <td>1.75</td>\n",
       "      <td>16.8</td>\n",
       "      <td>151</td>\n",
       "      <td>1.85</td>\n",
       "      <td>1.28</td>\n",
       "      <td>0.14</td>\n",
       "      <td>2.50</td>\n",
       "      <td>2.85</td>\n",
       "      <td>1.28</td>\n",
       "      <td>3.07</td>\n",
       "      <td>718</td>\n",
       "    </tr>\n",
       "    <tr>\n",
       "      <td>4</td>\n",
       "      <td>0</td>\n",
       "      <td>13.77</td>\n",
       "      <td>1.90</td>\n",
       "      <td>2.68</td>\n",
       "      <td>17.1</td>\n",
       "      <td>115</td>\n",
       "      <td>3.00</td>\n",
       "      <td>2.79</td>\n",
       "      <td>0.39</td>\n",
       "      <td>1.68</td>\n",
       "      <td>6.30</td>\n",
       "      <td>1.13</td>\n",
       "      <td>2.93</td>\n",
       "      <td>1375</td>\n",
       "    </tr>\n",
       "    <tr>\n",
       "      <td>...</td>\n",
       "      <td>...</td>\n",
       "      <td>...</td>\n",
       "      <td>...</td>\n",
       "      <td>...</td>\n",
       "      <td>...</td>\n",
       "      <td>...</td>\n",
       "      <td>...</td>\n",
       "      <td>...</td>\n",
       "      <td>...</td>\n",
       "      <td>...</td>\n",
       "      <td>...</td>\n",
       "      <td>...</td>\n",
       "      <td>...</td>\n",
       "      <td>...</td>\n",
       "    </tr>\n",
       "    <tr>\n",
       "      <td>173</td>\n",
       "      <td>2</td>\n",
       "      <td>12.70</td>\n",
       "      <td>3.55</td>\n",
       "      <td>2.36</td>\n",
       "      <td>21.5</td>\n",
       "      <td>106</td>\n",
       "      <td>1.70</td>\n",
       "      <td>1.20</td>\n",
       "      <td>0.17</td>\n",
       "      <td>0.84</td>\n",
       "      <td>5.00</td>\n",
       "      <td>0.78</td>\n",
       "      <td>1.29</td>\n",
       "      <td>600</td>\n",
       "    </tr>\n",
       "    <tr>\n",
       "      <td>174</td>\n",
       "      <td>2</td>\n",
       "      <td>12.53</td>\n",
       "      <td>5.51</td>\n",
       "      <td>2.64</td>\n",
       "      <td>25.0</td>\n",
       "      <td>96</td>\n",
       "      <td>1.79</td>\n",
       "      <td>0.60</td>\n",
       "      <td>0.63</td>\n",
       "      <td>1.10</td>\n",
       "      <td>5.00</td>\n",
       "      <td>0.82</td>\n",
       "      <td>1.69</td>\n",
       "      <td>515</td>\n",
       "    </tr>\n",
       "    <tr>\n",
       "      <td>175</td>\n",
       "      <td>1</td>\n",
       "      <td>13.49</td>\n",
       "      <td>1.66</td>\n",
       "      <td>2.24</td>\n",
       "      <td>24.0</td>\n",
       "      <td>87</td>\n",
       "      <td>1.88</td>\n",
       "      <td>1.84</td>\n",
       "      <td>0.27</td>\n",
       "      <td>1.03</td>\n",
       "      <td>3.74</td>\n",
       "      <td>0.98</td>\n",
       "      <td>2.78</td>\n",
       "      <td>472</td>\n",
       "    </tr>\n",
       "    <tr>\n",
       "      <td>176</td>\n",
       "      <td>2</td>\n",
       "      <td>12.93</td>\n",
       "      <td>2.81</td>\n",
       "      <td>2.70</td>\n",
       "      <td>21.0</td>\n",
       "      <td>96</td>\n",
       "      <td>1.54</td>\n",
       "      <td>0.50</td>\n",
       "      <td>0.53</td>\n",
       "      <td>0.75</td>\n",
       "      <td>4.60</td>\n",
       "      <td>0.77</td>\n",
       "      <td>2.31</td>\n",
       "      <td>600</td>\n",
       "    </tr>\n",
       "    <tr>\n",
       "      <td>177</td>\n",
       "      <td>0</td>\n",
       "      <td>13.05</td>\n",
       "      <td>1.65</td>\n",
       "      <td>2.55</td>\n",
       "      <td>18.0</td>\n",
       "      <td>98</td>\n",
       "      <td>2.45</td>\n",
       "      <td>2.43</td>\n",
       "      <td>0.29</td>\n",
       "      <td>1.44</td>\n",
       "      <td>4.25</td>\n",
       "      <td>1.12</td>\n",
       "      <td>2.51</td>\n",
       "      <td>1105</td>\n",
       "    </tr>\n",
       "  </tbody>\n",
       "</table>\n",
       "<p>178 rows × 14 columns</p>\n",
       "</div>"
      ],
      "text/plain": [
       "     Classificacao  Alcool  AcidoMalico  Cinza  AlcalinidadeCinzas  Magnesio  \\\n",
       "0                2   13.69         3.26   2.54                20.0       107   \n",
       "1                1   12.42         1.61   2.19                22.5       108   \n",
       "2                0   13.64         3.10   2.56                15.2       116   \n",
       "3                1   12.21         1.19   1.75                16.8       151   \n",
       "4                0   13.77         1.90   2.68                17.1       115   \n",
       "..             ...     ...          ...    ...                 ...       ...   \n",
       "173              2   12.70         3.55   2.36                21.5       106   \n",
       "174              2   12.53         5.51   2.64                25.0        96   \n",
       "175              1   13.49         1.66   2.24                24.0        87   \n",
       "176              2   12.93         2.81   2.70                21.0        96   \n",
       "177              0   13.05         1.65   2.55                18.0        98   \n",
       "\n",
       "     FenoisTotais  Flavonoides  FenoisNaoFlavonoides  Proantocianinas  \\\n",
       "0            1.83         0.56                  0.50             0.80   \n",
       "1            2.00         2.09                  0.34             1.61   \n",
       "2            2.70         3.03                  0.17             1.66   \n",
       "3            1.85         1.28                  0.14             2.50   \n",
       "4            3.00         2.79                  0.39             1.68   \n",
       "..            ...          ...                   ...              ...   \n",
       "173          1.70         1.20                  0.17             0.84   \n",
       "174          1.79         0.60                  0.63             1.10   \n",
       "175          1.88         1.84                  0.27             1.03   \n",
       "176          1.54         0.50                  0.53             0.75   \n",
       "177          2.45         2.43                  0.29             1.44   \n",
       "\n",
       "     IntensidadeCor  Matiz  VinhosDiluidos  Prolina  \n",
       "0              5.88   0.96            1.82      680  \n",
       "1              2.06   1.06            2.96      345  \n",
       "2              5.10   0.96            3.36      845  \n",
       "3              2.85   1.28            3.07      718  \n",
       "4              6.30   1.13            2.93     1375  \n",
       "..              ...    ...             ...      ...  \n",
       "173            5.00   0.78            1.29      600  \n",
       "174            5.00   0.82            1.69      515  \n",
       "175            3.74   0.98            2.78      472  \n",
       "176            4.60   0.77            2.31      600  \n",
       "177            4.25   1.12            2.51     1105  \n",
       "\n",
       "[178 rows x 14 columns]"
      ]
     },
     "execution_count": 169,
     "metadata": {},
     "output_type": "execute_result"
    }
   ],
   "source": [
    "dfWinesShuffle"
   ]
  },
  {
   "cell_type": "code",
   "execution_count": 170,
   "metadata": {},
   "outputs": [],
   "source": [
    "X_train, X_test, y_train, y_test = train_test_split(dfWinesShuffle.iloc[:,1:13], dfWinesShuffle.iloc[:,0], test_size=0.20, random_state=1)\n",
    "\n",
    "KMeans_model = KMeans(n_clusters=3, random_state=1)\n",
    "Y_Predict = KMeans_model.fit_predict(X_train)"
   ]
  },
  {
   "cell_type": "code",
   "execution_count": 171,
   "metadata": {},
   "outputs": [
    {
     "data": {
      "text/plain": [
       "array([0, 0, 0, 2, 1, 2, 1, 0, 0, 0, 2, 2, 0, 1, 1, 0, 1, 0, 1, 1, 1, 1,\n",
       "       1, 2, 2, 1, 2, 1, 2, 1, 1, 1, 0, 1, 1, 1], dtype=int32)"
      ]
     },
     "execution_count": 171,
     "metadata": {},
     "output_type": "execute_result"
    }
   ],
   "source": [
    "KMeans_Prediction = KMeans_model.fit_predict(X_test)\n",
    "KMeans_Prediction"
   ]
  },
  {
   "cell_type": "code",
   "execution_count": 172,
   "metadata": {},
   "outputs": [
    {
     "data": {
      "text/plain": [
       "38.89"
      ]
     },
     "execution_count": 172,
     "metadata": {},
     "output_type": "execute_result"
    }
   ],
   "source": [
    "acuracia = round(accuracy_score(KMeans_Prediction, y_test) * 100,2)\n",
    "acuracia"
   ]
  },
  {
   "cell_type": "code",
   "execution_count": 173,
   "metadata": {},
   "outputs": [
    {
     "name": "stdout",
     "output_type": "stream",
     "text": [
      "              precision    recall  f1-score   support\n",
      "\n",
      "           0       0.30      0.27      0.29        11\n",
      "           1       0.50      0.75      0.60        12\n",
      "           2       0.25      0.15      0.19        13\n",
      "\n",
      "    accuracy                           0.39        36\n",
      "   macro avg       0.35      0.39      0.36        36\n",
      "weighted avg       0.35      0.39      0.36        36\n",
      "\n"
     ]
    }
   ],
   "source": [
    "print(classification_report(y_test, KMeans_Prediction))"
   ]
  },
  {
   "cell_type": "code",
   "execution_count": 174,
   "metadata": {},
   "outputs": [
    {
     "data": {
      "image/png": "[encoded data removed]",
      "text/plain": [
       "<Figure size 432x288 with 1 Axes>"
      ]
     },
     "metadata": {
      "needs_background": "light"
     },
     "output_type": "display_data"
    }
   ],
   "source": [
    "plt.subplot(224)\n",
    "plt.scatter([X_train.iloc[:,1]], [X_train.iloc[:,2]], c=[Y_Predict])\n",
    "plt.title(\"Teste\")\n",
    "plt.show()"
   ]
  },
  {
   "cell_type": "code",
   "execution_count": 180,
   "metadata": {},
   "outputs": [
    {
     "data": {
      "image/png": "[encoded data removed]",
      "text/plain": [
       "<Figure size 432x288 with 1 Axes>"
      ]
     },
     "metadata": {
      "needs_background": "light"
     },
     "output_type": "display_data"
    }
   ],
   "source": [
    "KMeans_Acuracia = 0\n",
    "KMeans_Seed_00 = 0\n",
    "KMeans_Seed_01 = 0\n",
    "KMeans_Seed_02 = 0\n",
    "names= ['Classificacao','Alcool','AcidoMalico','Cinza','AlcalinidadeCinzas','Magnesio','FenoisTotais','Flavonoides','FenoisNaoFlavonoides','Proantocianinas','IntensidadeCor','Matiz','VinhosDiluidos','Prolina']\n",
    "\n",
    "for a in range(0,10,1):\n",
    "    for i in range(0,10,1):\n",
    "        for z in range(0,10,1):\n",
    "\n",
    "            # PEGA A BASE\n",
    "            dfWines = pd.read_csv(\"wine.data\", names=names)\n",
    "\n",
    "            # DIMINIU A CLASSIFICAÇÃO PARA FICAR IGUAL O NUMERO DE CLUSTERS\n",
    "            dfWines['Classificacao']  = dfWines['Classificacao'] - 1\n",
    "\n",
    "            # SHUFFLE NO DF\n",
    "            dfWinesShuffle = dfWines.sample(frac=1, random_state=a).reset_index(drop=True)\n",
    "\n",
    "            X_train, X_test, y_train, y_test = train_test_split(dfWines.iloc[:,1:13], dfWines.iloc[:,0], test_size=0.30, random_state=i)\n",
    "\n",
    "            KMeans_model = KMeans(n_clusters=3, random_state=z)\n",
    "            Y_Predict = KMeans_model.fit_predict(X_train)\n",
    "\n",
    "            KMeans_Prediction = KMeans_model.fit_predict(X_test)\n",
    "            acuracia = round(accuracy_score(KMeans_Prediction, y_test) * 100,2)\n",
    "            if acuracia > KMeans_Acuracia:\n",
    "                KMeans_Acuracia = acuracia\n",
    "                KMeans_Seed_00 = a\n",
    "                KMeans_Seed_01 = i\n",
    "                KMeans_Seed_02 = z\n",
    "\n",
    "# PEGA A BASE\n",
    "dfWines = pd.read_csv(\"wine.data\", names=names)\n",
    "\n",
    "# DIMINIU A CLASSIFICAÇÃO PARA FICAR IGUAL O NUMERO DE CLUSTERS\n",
    "dfWines['Classificacao']  = dfWines['Classificacao'] - 1\n",
    "\n",
    "# SHUFFLE NO DF\n",
    "dfWinesShuffle = dfWines.sample(frac=1, random_state=KMeans_Seed_00).reset_index(drop=True)\n",
    "    \n",
    "X_train, X_test, y_train, y_test = train_test_split(dfWines.iloc[:,1:13], dfWines.iloc[:,0], test_size=0.30, random_state=KMeans_Seed_01)\n",
    "\n",
    "KMeans_model = KMeans(n_clusters=3, random_state=KMeans_Seed_02)\n",
    "Y_Predict = KMeans_model.fit_predict(X_train)\n",
    "\n",
    "KMeans_Prediction = KMeans_model.fit_predict(X_test)\n",
    "acuracia = round(accuracy_score(KMeans_Prediction, y_test) * 100,2)\n",
    "\n",
    "plt.subplot(224)\n",
    "plt.scatter([X_train.iloc[:,1]], [X_train.iloc[:,2]], c=[Y_Predict])\n",
    "plt.title(\"Teste\")\n",
    "plt.show()"
   ]
  },
  {
   "cell_type": "code",
   "execution_count": 176,
   "metadata": {},
   "outputs": [
    {
     "data": {
      "text/plain": [
       "0"
      ]
     },
     "execution_count": 176,
     "metadata": {},
     "output_type": "execute_result"
    }
   ],
   "source": [
    "KMeans_Seed_00"
   ]
  },
  {
   "cell_type": "code",
   "execution_count": 177,
   "metadata": {},
   "outputs": [
    {
     "data": {
      "text/plain": [
       "82"
      ]
     },
     "execution_count": 177,
     "metadata": {},
     "output_type": "execute_result"
    }
   ],
   "source": [
    "KMeans_Seed_01"
   ]
  },
  {
   "cell_type": "code",
   "execution_count": 178,
   "metadata": {},
   "outputs": [
    {
     "data": {
      "text/plain": [
       "1"
      ]
     },
     "execution_count": 178,
     "metadata": {},
     "output_type": "execute_result"
    }
   ],
   "source": [
    "KMeans_Seed_02"
   ]
  },
  {
   "cell_type": "code",
   "execution_count": 181,
   "metadata": {},
   "outputs": [
    {
     "data": {
      "text/plain": [
       "61.11"
      ]
     },
     "execution_count": 181,
     "metadata": {},
     "output_type": "execute_result"
    }
   ],
   "source": [
    "acuracia"
   ]
  },
  {
   "cell_type": "code",
   "execution_count": 182,
   "metadata": {},
   "outputs": [
    {
     "name": "stdout",
     "output_type": "stream",
     "text": [
      "              precision    recall  f1-score   support\n",
      "\n",
      "           0       0.79      0.58      0.67        19\n",
      "           1       0.76      0.73      0.74        22\n",
      "           2       0.32      0.46      0.37        13\n",
      "\n",
      "    accuracy                           0.61        54\n",
      "   macro avg       0.62      0.59      0.60        54\n",
      "weighted avg       0.66      0.61      0.63        54\n",
      "\n"
     ]
    }
   ],
   "source": [
    "print(classification_report(y_test, KMeans_Prediction))"
   ]
  },
  {
   "cell_type": "code",
   "execution_count": null,
   "metadata": {},
   "outputs": [],
   "source": []
  }
 ],
 "metadata": {
  "kernelspec": {
   "display_name": "Python 3",
   "language": "python",
   "name": "python3"
  },
  "language_info": {
   "codemirror_mode": {
    "name": "ipython",
    "version": 3
   },
   "file_extension": ".py",
   "mimetype": "text/x-python",
   "name": "python",
   "nbconvert_exporter": "python",
   "pygments_lexer": "ipython3",
   "version": "3.6.8"
  }
 },
 "nbformat": 4,
 "nbformat_minor": 2
}
