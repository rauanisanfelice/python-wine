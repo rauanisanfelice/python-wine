{
 "cells": [
  {
   "cell_type": "code",
   "execution_count": 43,
   "metadata": {},
   "outputs": [
    {
     "ename": "ImportError",
     "evalue": "cannot import name 'AfClassificacaofinityPropagation'",
     "output_type": "error",
     "traceback": [
      "\u001b[0;31m---------------------------------------------------------------------------\u001b[0m",
      "\u001b[0;31mImportError\u001b[0m                               Traceback (most recent call last)",
      "\u001b[0;32m<ipython-input-43-eb9fa89e6a8a>\u001b[0m in \u001b[0;36m<module>\u001b[0;34m\u001b[0m\n\u001b[1;32m     10\u001b[0m \u001b[0;31m# BIBLIOTECAS DE MACHINE LEARNING\u001b[0m\u001b[0;34m\u001b[0m\u001b[0;34m\u001b[0m\u001b[0;34m\u001b[0m\u001b[0m\n\u001b[1;32m     11\u001b[0m \u001b[0;32mfrom\u001b[0m \u001b[0msklearn\u001b[0m\u001b[0;34m.\u001b[0m\u001b[0mcluster\u001b[0m \u001b[0;32mimport\u001b[0m \u001b[0mKMeans\u001b[0m\u001b[0;34m\u001b[0m\u001b[0;34m\u001b[0m\u001b[0m\n\u001b[0;32m---> 12\u001b[0;31m \u001b[0;32mfrom\u001b[0m \u001b[0msklearn\u001b[0m\u001b[0;34m.\u001b[0m\u001b[0mcluster\u001b[0m \u001b[0;32mimport\u001b[0m \u001b[0mAfClassificacaofinityPropagation\u001b[0m\u001b[0;34m\u001b[0m\u001b[0;34m\u001b[0m\u001b[0m\n\u001b[0m\u001b[1;32m     13\u001b[0m \u001b[0;32mfrom\u001b[0m \u001b[0msklearn\u001b[0m\u001b[0;34m.\u001b[0m\u001b[0mmetrics\u001b[0m \u001b[0;32mimport\u001b[0m \u001b[0maccuracy_score\u001b[0m\u001b[0;34m,\u001b[0m \u001b[0mconfusion_matrix\u001b[0m\u001b[0;34m,\u001b[0m \u001b[0mclassification_report\u001b[0m\u001b[0;34m\u001b[0m\u001b[0;34m\u001b[0m\u001b[0m\n\u001b[1;32m     14\u001b[0m \u001b[0;32mfrom\u001b[0m \u001b[0msklearn\u001b[0m\u001b[0;34m.\u001b[0m\u001b[0mmodel_selection\u001b[0m \u001b[0;32mimport\u001b[0m \u001b[0mtrain_test_split\u001b[0m\u001b[0;34m\u001b[0m\u001b[0;34m\u001b[0m\u001b[0m\n",
      "\u001b[0;31mImportError\u001b[0m: cannot import name 'AfClassificacaofinityPropagation'"
     ]
    }
   ],
   "source": [
    "# MANIPULAÇÃO DOS DADOS\n",
    "import pandas as pd\n",
    "\n",
    "# MANIPULAÇÃO DE ARRAY\n",
    "import numpy as np\n",
    "\n",
    "# BIBLIOTECA DE GRÁFICOS\n",
    "import matplotlib.pyplot as plt\n",
    "\n",
    "# BIBLIOTECAS DE MACHINE LEARNING\n",
    "from sklearn.cluster import KMeans\n",
    "from sklearn.cluster import AfClassificacaofinityPropagation\n",
    "from sklearn.metrics import accuracy_score, confusion_matrix, classification_report\n",
    "from sklearn.model_selection import train_test_split"
   ]
  },
  {
   "cell_type": "code",
   "execution_count": 63,
   "metadata": {},
   "outputs": [],
   "source": [
    "names= ['Classificacao','Alcool','AcidoMalico','Cinza','AlcalinidadeCinzas','Magnesio','FenoisTotais','Flavonoides','FenoisNaoFlavonoides','Proantocianinas','IntensidadeCor','Cor','VinhosDiluidos','Prolina']\n",
    "dfWines = pd.read_csv(\"wine.data\", names=names)\n",
    "\n",
    "# DIMINIU A CLASSIFICAÇÃO PARA FICAR IGUAL O NUMERO DE CLUSTERS\n",
    "dfWines['Classificacao']  = dfWines['Classificacao'] - 1\n",
    "\n",
    "# SHUFFLE NO DF\n",
    "dfWinesShuffle = dfWines.sample(frac=1, random_state=7).reset_index(drop=True)"
   ]
  },
  {
   "cell_type": "code",
   "execution_count": 45,
   "metadata": {},
   "outputs": [
    {
     "data": {
      "text/html": [
       "<div>\n",
       "<style scoped>\n",
       "    .dataframe tbody tr th:only-of-type {\n",
       "        vertical-align: middle;\n",
       "    }\n",
       "\n",
       "    .dataframe tbody tr th {\n",
       "        vertical-align: top;\n",
       "    }\n",
       "\n",
       "    .dataframe thead th {\n",
       "        text-align: right;\n",
       "    }\n",
       "</style>\n",
       "<table border=\"1\" class=\"dataframe\">\n",
       "  <thead>\n",
       "    <tr style=\"text-align: right;\">\n",
       "      <th></th>\n",
       "      <th>Classificacao</th>\n",
       "      <th>Alcool</th>\n",
       "      <th>AcidoMalico</th>\n",
       "      <th>Cinza</th>\n",
       "      <th>AlcalinidadeCinzas</th>\n",
       "      <th>Magnesio</th>\n",
       "      <th>FenoisTotais</th>\n",
       "      <th>Flavonoides</th>\n",
       "      <th>FenoisNaoFlavonoides</th>\n",
       "      <th>Proantocianinas</th>\n",
       "      <th>IntensidadeCor</th>\n",
       "      <th>Cor</th>\n",
       "      <th>VinhosDiluidos</th>\n",
       "      <th>Prolina</th>\n",
       "    </tr>\n",
       "  </thead>\n",
       "  <tbody>\n",
       "    <tr>\n",
       "      <td>0</td>\n",
       "      <td>2</td>\n",
       "      <td>12.87</td>\n",
       "      <td>4.61</td>\n",
       "      <td>2.48</td>\n",
       "      <td>21.5</td>\n",
       "      <td>86</td>\n",
       "      <td>1.70</td>\n",
       "      <td>0.65</td>\n",
       "      <td>0.47</td>\n",
       "      <td>0.86</td>\n",
       "      <td>7.650000</td>\n",
       "      <td>0.54</td>\n",
       "      <td>1.86</td>\n",
       "      <td>625</td>\n",
       "    </tr>\n",
       "    <tr>\n",
       "      <td>1</td>\n",
       "      <td>0</td>\n",
       "      <td>13.28</td>\n",
       "      <td>1.64</td>\n",
       "      <td>2.84</td>\n",
       "      <td>15.5</td>\n",
       "      <td>110</td>\n",
       "      <td>2.60</td>\n",
       "      <td>2.68</td>\n",
       "      <td>0.34</td>\n",
       "      <td>1.36</td>\n",
       "      <td>4.600000</td>\n",
       "      <td>1.09</td>\n",
       "      <td>2.78</td>\n",
       "      <td>880</td>\n",
       "    </tr>\n",
       "    <tr>\n",
       "      <td>2</td>\n",
       "      <td>2</td>\n",
       "      <td>12.82</td>\n",
       "      <td>3.37</td>\n",
       "      <td>2.30</td>\n",
       "      <td>19.5</td>\n",
       "      <td>88</td>\n",
       "      <td>1.48</td>\n",
       "      <td>0.66</td>\n",
       "      <td>0.40</td>\n",
       "      <td>0.97</td>\n",
       "      <td>10.260000</td>\n",
       "      <td>0.72</td>\n",
       "      <td>1.75</td>\n",
       "      <td>685</td>\n",
       "    </tr>\n",
       "    <tr>\n",
       "      <td>3</td>\n",
       "      <td>2</td>\n",
       "      <td>12.77</td>\n",
       "      <td>2.39</td>\n",
       "      <td>2.28</td>\n",
       "      <td>19.5</td>\n",
       "      <td>86</td>\n",
       "      <td>1.39</td>\n",
       "      <td>0.51</td>\n",
       "      <td>0.48</td>\n",
       "      <td>0.64</td>\n",
       "      <td>9.899999</td>\n",
       "      <td>0.57</td>\n",
       "      <td>1.63</td>\n",
       "      <td>470</td>\n",
       "    </tr>\n",
       "    <tr>\n",
       "      <td>4</td>\n",
       "      <td>1</td>\n",
       "      <td>12.43</td>\n",
       "      <td>1.53</td>\n",
       "      <td>2.29</td>\n",
       "      <td>21.5</td>\n",
       "      <td>86</td>\n",
       "      <td>2.74</td>\n",
       "      <td>3.15</td>\n",
       "      <td>0.39</td>\n",
       "      <td>1.77</td>\n",
       "      <td>3.940000</td>\n",
       "      <td>0.69</td>\n",
       "      <td>2.84</td>\n",
       "      <td>352</td>\n",
       "    </tr>\n",
       "  </tbody>\n",
       "</table>\n",
       "</div>"
      ],
      "text/plain": [
       "   Classificacao  Alcool  AcidoMalico  Cinza  AlcalinidadeCinzas  Magnesio  \\\n",
       "0              2   12.87         4.61   2.48                21.5        86   \n",
       "1              0   13.28         1.64   2.84                15.5       110   \n",
       "2              2   12.82         3.37   2.30                19.5        88   \n",
       "3              2   12.77         2.39   2.28                19.5        86   \n",
       "4              1   12.43         1.53   2.29                21.5        86   \n",
       "\n",
       "   FenoisTotais  Flavonoides  FenoisNaoFlavonoides  Proantocianinas  \\\n",
       "0          1.70         0.65                  0.47             0.86   \n",
       "1          2.60         2.68                  0.34             1.36   \n",
       "2          1.48         0.66                  0.40             0.97   \n",
       "3          1.39         0.51                  0.48             0.64   \n",
       "4          2.74         3.15                  0.39             1.77   \n",
       "\n",
       "   IntensidadeCor   Cor  VinhosDiluidos  Prolina  \n",
       "0        7.650000  0.54            1.86      625  \n",
       "1        4.600000  1.09            2.78      880  \n",
       "2       10.260000  0.72            1.75      685  \n",
       "3        9.899999  0.57            1.63      470  \n",
       "4        3.940000  0.69            2.84      352  "
      ]
     },
     "execution_count": 45,
     "metadata": {},
     "output_type": "execute_result"
    }
   ],
   "source": [
    "dfWinesShuffle.head()"
   ]
  },
  {
   "cell_type": "code",
   "execution_count": 64,
   "metadata": {},
   "outputs": [],
   "source": [
    "#############################################################################\n",
    "# KMeans  ###################################################################\n",
    "\n",
    "X_train, X_test, y_train, y_test = train_test_split(dfWinesShuffle.iloc[:,1:14], dfWinesShuffle.iloc[:,0], test_size=0.30, random_state=13)\n",
    "\n",
    "KMeans_model = KMeans(n_clusters=3, random_state=3)\n",
    "Y_Predict = KMeans_model.fit_predict(X_train)"
   ]
  },
  {
   "cell_type": "code",
   "execution_count": 65,
   "metadata": {},
   "outputs": [],
   "source": [
    "KMeans_Prediction = KMeans_model.fit_predict(X_test)\n",
    "acuracia = round(accuracy_score(KMeans_Prediction, y_test) * 100,2)"
   ]
  },
  {
   "cell_type": "code",
   "execution_count": 66,
   "metadata": {},
   "outputs": [
    {
     "data": {
      "text/plain": [
       "83.33"
      ]
     },
     "execution_count": 66,
     "metadata": {},
     "output_type": "execute_result"
    }
   ],
   "source": [
    "acuracia"
   ]
  },
  {
   "cell_type": "code",
   "execution_count": 67,
   "metadata": {},
   "outputs": [
    {
     "name": "stdout",
     "output_type": "stream",
     "text": [
      "              precision    recall  f1-score   support\n",
      "\n",
      "           0       1.00      0.90      0.95        20\n",
      "           1       0.89      0.76      0.82        21\n",
      "           2       0.61      0.85      0.71        13\n",
      "\n",
      "    accuracy                           0.83        54\n",
      "   macro avg       0.83      0.84      0.83        54\n",
      "weighted avg       0.86      0.83      0.84        54\n",
      "\n"
     ]
    }
   ],
   "source": [
    "print(classification_report(y_test, KMeans_Prediction))"
   ]
  },
  {
   "cell_type": "code",
   "execution_count": 214,
   "metadata": {},
   "outputs": [
    {
     "data": {
      "image/png": "[encoded data removed]",
      "text/plain": [
       "<Figure size 432x288 with 1 Axes>"
      ]
     },
     "metadata": {},
     "output_type": "display_data"
    }
   ],
   "source": [
    "plt.subplot(224)\n",
    "plt.scatter([X_train.iloc[:,1]], [X_train.iloc[:,12]], c=[Y_Predict])\n",
    "plt.title(\"Teste\")\n",
    "plt.show()"
   ]
  },
  {
   "cell_type": "code",
   "execution_count": 191,
   "metadata": {},
   "outputs": [
    {
     "data": {
      "image/png": "[encoded data removed]",
      "text/plain": [
       "<Figure size 432x288 with 1 Axes>"
      ]
     },
     "metadata": {},
     "output_type": "display_data"
    }
   ],
   "source": [
    "KMeans_Acuracia = 0\n",
    "KMeans_Seed_00 = 0\n",
    "KMeans_Seed_01 = 0\n",
    "KMeans_Seed_02 = 0\n",
    "names= ['Classificacao','Alcool','AcidoMalico','Cinza','AlcalinidadeCinzas','Magnesio','FenoisTotais','Flavonoides','FenoisNaoFlavonoides','Proantocianinas','IntensidadeCor','Cor','VinhosDiluidos','Prolina']\n",
    "\n",
    "for a in range(0,20,1):\n",
    "    for i in range(0,20,1):\n",
    "        for z in range(0,20,1):\n",
    "\n",
    "            # PEGA A BASE\n",
    "            dfWines = pd.read_csv(\"wine.data\", names=names)\n",
    "\n",
    "            # DIMINIU A CLASSIFICAÇÃO PARA FICAR IGUAL O NUMERO DE CLUSTERS\n",
    "            dfWines['Classificacao']  = dfWines['Classificacao'] - 1\n",
    "\n",
    "            # SHUFFLE NO DF\n",
    "            dfWinesShuffle = dfWines.sample(frac=1, random_state=a).reset_index(drop=True)\n",
    "\n",
    "            X_train, X_test, y_train, y_test = train_test_split(dfWinesShuffle.iloc[:,1:14], dfWinesShuffle.iloc[:,0], test_size=0.30, random_state=i)\n",
    "\n",
    "            KMeans_model = KMeans(n_clusters=3, random_state=z)\n",
    "            Y_Predict = KMeans_model.fit_predict(X_train)\n",
    "\n",
    "            KMeans_Prediction = KMeans_model.fit_predict(X_test)\n",
    "            acuracia = round(accuracy_score(KMeans_Prediction, y_test) * 100,2)\n",
    "            if acuracia > KMeans_Acuracia:\n",
    "                KMeans_Acuracia = acuracia\n",
    "                KMeans_Seed_00 = a\n",
    "                KMeans_Seed_01 = i\n",
    "                KMeans_Seed_02 = z\n",
    "\n",
    "# PEGA A BASE\n",
    "dfWines = pd.read_csv(\"wine.data\", names=names)\n",
    "\n",
    "# DIMINIU A CLASSIFICAÇÃO PARA FICAR IGUAL O NUMERO DE CLUSTERS\n",
    "dfWines['Classificacao']  = dfWines['Classificacao'] - 1\n",
    "\n",
    "# SHUFFLE NO DF\n",
    "dfWinesShuffle = dfWines.sample(frac=1, random_state=KMeans_Seed_00).reset_index(drop=True)\n",
    "    \n",
    "X_train, X_test, y_train, y_test = train_test_split(dfWinesShuffle.iloc[:,1:14], dfWinesShuffle.iloc[:,0], test_size=0.30, random_state=KMeans_Seed_01)\n",
    "\n",
    "KMeans_model = KMeans(n_clusters=3, random_state=KMeans_Seed_02)\n",
    "Y_Predict = KMeans_model.fit_predict(X_train)\n",
    "\n",
    "KMeans_Prediction = KMeans_model.fit_predict(X_test)\n",
    "acuracia = round(accuracy_score(KMeans_Prediction, y_test) * 100,2)\n",
    "\n",
    "plt.subplot(224)\n",
    "plt.scatter([X_train.iloc[:,1]], [X_train.iloc[:,2]], c=[Y_Predict])\n",
    "plt.title(\"Teste\")\n",
    "plt.show()"
   ]
  },
  {
   "cell_type": "code",
   "execution_count": 192,
   "metadata": {},
   "outputs": [
    {
     "data": {
      "text/plain": [
       "7"
      ]
     },
     "execution_count": 192,
     "metadata": {},
     "output_type": "execute_result"
    }
   ],
   "source": [
    "KMeans_Seed_00"
   ]
  },
  {
   "cell_type": "code",
   "execution_count": 193,
   "metadata": {},
   "outputs": [
    {
     "data": {
      "text/plain": [
       "13"
      ]
     },
     "execution_count": 193,
     "metadata": {},
     "output_type": "execute_result"
    }
   ],
   "source": [
    "KMeans_Seed_01"
   ]
  },
  {
   "cell_type": "code",
   "execution_count": 194,
   "metadata": {},
   "outputs": [
    {
     "data": {
      "text/plain": [
       "3"
      ]
     },
     "execution_count": 194,
     "metadata": {},
     "output_type": "execute_result"
    }
   ],
   "source": [
    "KMeans_Seed_02"
   ]
  },
  {
   "cell_type": "code",
   "execution_count": 195,
   "metadata": {},
   "outputs": [
    {
     "data": {
      "text/plain": [
       "83.33"
      ]
     },
     "execution_count": 195,
     "metadata": {},
     "output_type": "execute_result"
    }
   ],
   "source": [
    "KMeans_Acuracia"
   ]
  },
  {
   "cell_type": "code",
   "execution_count": 196,
   "metadata": {},
   "outputs": [
    {
     "name": "stdout",
     "output_type": "stream",
     "text": [
      "              precision    recall  f1-score   support\n",
      "\n",
      "           0       1.00      0.90      0.95        20\n",
      "           1       0.89      0.76      0.82        21\n",
      "           2       0.61      0.85      0.71        13\n",
      "\n",
      "    accuracy                           0.83        54\n",
      "   macro avg       0.83      0.84      0.83        54\n",
      "weighted avg       0.86      0.83      0.84        54\n",
      "\n"
     ]
    }
   ],
   "source": [
    "print(classification_report(y_test, KMeans_Prediction))"
   ]
  },
  {
   "cell_type": "code",
   "execution_count": 60,
   "metadata": {},
   "outputs": [
    {
     "data": {
      "text/plain": [
       "Classificacao\n",
       "0    59\n",
       "1    71\n",
       "2    48\n",
       "Name: Classificacao, dtype: int64"
      ]
     },
     "execution_count": 60,
     "metadata": {},
     "output_type": "execute_result"
    }
   ],
   "source": [
    "dfWinesShuffle.groupby('Classificacao')['Classificacao'].count()"
   ]
  },
  {
   "cell_type": "code",
   "execution_count": 62,
   "metadata": {},
   "outputs": [
    {
     "data": {
      "text/plain": [
       "1    39.887640\n",
       "0    33.146067\n",
       "2    26.966292\n",
       "Name: Classificacao, dtype: float64"
      ]
     },
     "execution_count": 62,
     "metadata": {},
     "output_type": "execute_result"
    }
   ],
   "source": [
    "dfWinesShuffle['Classificacao'].value_counts(normalize=True) * 100"
   ]
  },
  {
   "cell_type": "code",
   "execution_count": 76,
   "metadata": {},
   "outputs": [
    {
     "data": {
      "text/plain": [
       "44.44"
      ]
     },
     "execution_count": 76,
     "metadata": {},
     "output_type": "execute_result"
    }
   ],
   "source": [
    "#############################################################################\n",
    "# AgglomerativeClustering  ##################################################\n",
    "\n",
    "from sklearn.cluster import AgglomerativeClustering\n",
    "\n",
    "# PEGA A BASE\n",
    "dfWines = pd.read_csv(\"wine.data\", names=names)\n",
    "\n",
    "# DIMINIU A CLASSIFICAÇÃO PARA FICAR IGUAL O NUMERO DE CLUSTERS\n",
    "dfWines['Classificacao']  = dfWines['Classificacao'] - 1\n",
    "\n",
    "# SHUFFLE NO DF\n",
    "dfWinesShuffle = dfWines.sample(frac=1, random_state=0).reset_index(drop=True)\n",
    "    \n",
    "X_train, X_test, y_train, y_test = train_test_split(dfWinesShuffle.iloc[:,1:14], dfWinesShuffle.iloc[:,0], test_size=0.30, random_state=0)\n",
    "\n",
    "AGGL_model = AgglomerativeClustering(n_clusters=3)\n",
    "Y_Predict = AGGL_model.fit_predict(X_train)\n",
    "\n",
    "AGGL_Prediction = AGGL_model.fit_predict(X_test)\n",
    "acuracia = round(accuracy_score(AGGL_Prediction, y_test) * 100,2)\n",
    "acuracia"
   ]
  },
  {
   "cell_type": "code",
   "execution_count": 77,
   "metadata": {},
   "outputs": [
    {
     "data": {
      "image/png": "[encoded data removed]",
      "text/plain": [
       "<Figure size 432x288 with 1 Axes>"
      ]
     },
     "metadata": {
      "needs_background": "light"
     },
     "output_type": "display_data"
    }
   ],
   "source": [
    "plt.subplot(224)\n",
    "plt.scatter([X_train.iloc[:,1]], [X_train.iloc[:,12]], c=[Y_Predict])\n",
    "plt.title(\"Teste\")\n",
    "plt.show()"
   ]
  },
  {
   "cell_type": "code",
   "execution_count": 78,
   "metadata": {},
   "outputs": [
    {
     "name": "stdout",
     "output_type": "stream",
     "text": [
      "              precision    recall  f1-score   support\n",
      "\n",
      "           0       0.43      0.47      0.45        19\n",
      "           1       0.65      0.71      0.68        21\n",
      "           2       0.00      0.00      0.00        14\n",
      "\n",
      "    accuracy                           0.44        54\n",
      "   macro avg       0.36      0.40      0.38        54\n",
      "weighted avg       0.40      0.44      0.42        54\n",
      "\n"
     ]
    }
   ],
   "source": [
    "print(classification_report(y_test, AGGL_Prediction))"
   ]
  },
  {
   "cell_type": "code",
   "execution_count": 79,
   "metadata": {},
   "outputs": [
    {
     "data": {
      "image/png": "[encoded data removed]",
      "text/plain": [
       "<Figure size 432x288 with 1 Axes>"
      ]
     },
     "metadata": {
      "needs_background": "light"
     },
     "output_type": "display_data"
    }
   ],
   "source": [
    "#############################################################################\n",
    "# AgglomerativeClustering  ##################################################\n",
    "\n",
    "AGGL_Acuracia = 0\n",
    "AGGL_Seed_00 = 0\n",
    "AGGL_Seed_01 = 0\n",
    "AGGL_Seed_02 = 0\n",
    "names= ['Classificacao','Alcool','AcidoMalico','Cinza','AlcalinidadeCinzas','Magnesio','FenoisTotais','Flavonoides','FenoisNaoFlavonoides','Proantocianinas','IntensidadeCor','Cor','VinhosDiluidos','Prolina']\n",
    "\n",
    "for a in range(0,20,1):\n",
    "    for i in range(0,20,1):\n",
    "        for z in range(0,20,1):\n",
    "\n",
    "            # PEGA A BASE\n",
    "            dfWines = pd.read_csv(\"wine.data\", names=names)\n",
    "\n",
    "            # DIMINIU A CLASSIFICAÇÃO PARA FICAR IGUAL O NUMERO DE CLUSTERS\n",
    "            dfWines['Classificacao']  = dfWines['Classificacao'] - 1\n",
    "\n",
    "            # SHUFFLE NO DF\n",
    "            dfWinesShuffle = dfWines.sample(frac=1, random_state=a).reset_index(drop=True)\n",
    "\n",
    "            X_train, X_test, y_train, y_test = train_test_split(dfWinesShuffle.iloc[:,1:14], dfWinesShuffle.iloc[:,0], test_size=0.30, random_state=i)\n",
    "\n",
    "            KMeans_model = KMeans(n_clusters=3, random_state=z)\n",
    "            Y_Predict = KMeans_model.fit_predict(X_train)\n",
    "\n",
    "            KMeans_Prediction = KMeans_model.fit_predict(X_test)\n",
    "            acuracia = round(accuracy_score(KMeans_Prediction, y_test) * 100,2)\n",
    "            if acuracia > AGGL_Acuracia:\n",
    "                AGGL_Acuracia = acuracia\n",
    "                AGGL_Seed_00 = a\n",
    "                AGGL_Seed_01 = i\n",
    "                AGGL_Seed_02 = z\n",
    "\n",
    "# PEGA A BASE\n",
    "dfWines = pd.read_csv(\"wine.data\", names=names)\n",
    "\n",
    "# DIMINIU A CLASSIFICAÇÃO PARA FICAR IGUAL O NUMERO DE CLUSTERS\n",
    "dfWines['Classificacao']  = dfWines['Classificacao'] - 1\n",
    "\n",
    "# SHUFFLE NO DF\n",
    "dfWinesShuffle = dfWines.sample(frac=1, random_state=AGGL_Seed_00).reset_index(drop=True)\n",
    "    \n",
    "X_train, X_test, y_train, y_test = train_test_split(dfWinesShuffle.iloc[:,1:14], dfWinesShuffle.iloc[:,0], test_size=0.30, random_state=AGGL_Seed_01)\n",
    "\n",
    "AGGL_model = AgglomerativeClustering(n_clusters=3)\n",
    "Y_Predict = AGGL_model.fit_predict(X_train)\n",
    "\n",
    "AGGL_Prediction = AGGL_model.fit_predict(X_test)\n",
    "acuracia = round(accuracy_score(AGGL_Prediction, y_test) * 100,2)\n",
    "\n",
    "plt.subplot(224)\n",
    "plt.scatter([X_train.iloc[:,1]], [X_train.iloc[:,2]], c=[Y_Predict])\n",
    "plt.title(\"Teste\")\n",
    "plt.show()"
   ]
  },
  {
   "cell_type": "code",
   "execution_count": 80,
   "metadata": {},
   "outputs": [
    {
     "data": {
      "text/plain": [
       "7"
      ]
     },
     "execution_count": 80,
     "metadata": {},
     "output_type": "execute_result"
    }
   ],
   "source": [
    "AGGL_Seed_00"
   ]
  },
  {
   "cell_type": "code",
   "execution_count": 81,
   "metadata": {},
   "outputs": [
    {
     "data": {
      "text/plain": [
       "13"
      ]
     },
     "execution_count": 81,
     "metadata": {},
     "output_type": "execute_result"
    }
   ],
   "source": [
    "AGGL_Seed_01"
   ]
  },
  {
   "cell_type": "code",
   "execution_count": 82,
   "metadata": {},
   "outputs": [
    {
     "data": {
      "text/plain": [
       "3"
      ]
     },
     "execution_count": 82,
     "metadata": {},
     "output_type": "execute_result"
    }
   ],
   "source": [
    "AGGL_Seed_02"
   ]
  },
  {
   "cell_type": "code",
   "execution_count": 83,
   "metadata": {},
   "outputs": [
    {
     "data": {
      "text/plain": [
       "83.33"
      ]
     },
     "execution_count": 83,
     "metadata": {},
     "output_type": "execute_result"
    }
   ],
   "source": [
    "AGGL_Acuracia"
   ]
  },
  {
   "cell_type": "code",
   "execution_count": null,
   "metadata": {},
   "outputs": [],
   "source": []
  },
  {
   "cell_type": "code",
   "execution_count": null,
   "metadata": {},
   "outputs": [],
   "source": []
  }
 ],
 "metadata": {
  "kernelspec": {
   "display_name": "Python 3",
   "language": "python",
   "name": "python3"
  },
  "language_info": {
   "codemirror_mode": {
    "name": "ipython",
    "version": 3
   },
   "file_extension": ".py",
   "mimetype": "text/x-python",
   "name": "python",
   "nbconvert_exporter": "python",
   "pygments_lexer": "ipython3",
   "version": "3.6.8"
  }
 },
 "nbformat": 4,
 "nbformat_minor": 2
}
